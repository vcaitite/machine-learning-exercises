{
 "cells": [
  {
   "cell_type": "markdown",
   "metadata": {},
   "source": [
    "# Trabalho Prático 2 - Implementação do Algoritmo de Boosting\n",
    "\n",
    "- **Aluno:** Vítor Gabriel Reis Caitité\n",
    "- **Matrícula:** 2021712430"
   ]
  },
  {
   "cell_type": "code",
   "execution_count": 7,
   "metadata": {},
   "outputs": [],
   "source": [
    "# Imports\n",
    "import matplotlib.pyplot as plt\n",
    "import numpy as np\n",
    "from collections import Counter\n",
    "import pandas as pd\n",
    "from sklearn.metrics import roc_curve, precision_recall_curve\n",
    "from sklearn.model_selection import StratifiedKFold, cross_val_score, KFold\n",
    "from sklearn.metrics import confusion_matrix, accuracy_score, precision_score, recall_score\n",
    "from sklearn.naive_bayes import GaussianNB\n",
    "from sklearn.tree import DecisionTreeClassifier\n",
    "from sklearn.neighbors import KNeighborsClassifier\n",
    "from sklearn.ensemble import RandomForestClassifier\n",
    "from sklearn.ensemble import GradientBoostingClassifier\n",
    "from sklearn import tree\n",
    "from sklearn import svm\n",
    "from sklearn.preprocessing import MinMaxScaler\n",
    "from sklearn.preprocessing import OneHotEncoder\n",
    "from sklearn.model_selection import GridSearchCV \n",
    "from sklearn.pipeline import Pipeline\n",
    "import seaborn as sns\n",
    "import tabulate"
   ]
  },
  {
   "cell_type": "markdown",
   "metadata": {},
   "source": [
    "## Leitura e Pré-processamento dos Dados"
   ]
  },
  {
   "cell_type": "code",
   "execution_count": 8,
   "metadata": {},
   "outputs": [
    {
     "data": {
      "text/html": [
       "<div>\n",
       "<style scoped>\n",
       "    .dataframe tbody tr th:only-of-type {\n",
       "        vertical-align: middle;\n",
       "    }\n",
       "\n",
       "    .dataframe tbody tr th {\n",
       "        vertical-align: top;\n",
       "    }\n",
       "\n",
       "    .dataframe thead th {\n",
       "        text-align: right;\n",
       "    }\n",
       "</style>\n",
       "<table border=\"1\" class=\"dataframe\">\n",
       "  <thead>\n",
       "    <tr style=\"text-align: right;\">\n",
       "      <th></th>\n",
       "      <th>P1</th>\n",
       "      <th>P2</th>\n",
       "      <th>P3</th>\n",
       "      <th>P4</th>\n",
       "      <th>P5</th>\n",
       "      <th>P6</th>\n",
       "      <th>P7</th>\n",
       "      <th>P8</th>\n",
       "      <th>P9</th>\n",
       "      <th>class</th>\n",
       "    </tr>\n",
       "  </thead>\n",
       "  <tbody>\n",
       "    <tr>\n",
       "      <th>0</th>\n",
       "      <td>x</td>\n",
       "      <td>x</td>\n",
       "      <td>x</td>\n",
       "      <td>x</td>\n",
       "      <td>o</td>\n",
       "      <td>o</td>\n",
       "      <td>x</td>\n",
       "      <td>o</td>\n",
       "      <td>o</td>\n",
       "      <td>positive</td>\n",
       "    </tr>\n",
       "    <tr>\n",
       "      <th>1</th>\n",
       "      <td>x</td>\n",
       "      <td>x</td>\n",
       "      <td>x</td>\n",
       "      <td>x</td>\n",
       "      <td>o</td>\n",
       "      <td>o</td>\n",
       "      <td>o</td>\n",
       "      <td>x</td>\n",
       "      <td>o</td>\n",
       "      <td>positive</td>\n",
       "    </tr>\n",
       "    <tr>\n",
       "      <th>2</th>\n",
       "      <td>x</td>\n",
       "      <td>x</td>\n",
       "      <td>x</td>\n",
       "      <td>x</td>\n",
       "      <td>o</td>\n",
       "      <td>o</td>\n",
       "      <td>o</td>\n",
       "      <td>o</td>\n",
       "      <td>x</td>\n",
       "      <td>positive</td>\n",
       "    </tr>\n",
       "    <tr>\n",
       "      <th>3</th>\n",
       "      <td>x</td>\n",
       "      <td>x</td>\n",
       "      <td>x</td>\n",
       "      <td>x</td>\n",
       "      <td>o</td>\n",
       "      <td>o</td>\n",
       "      <td>o</td>\n",
       "      <td>b</td>\n",
       "      <td>b</td>\n",
       "      <td>positive</td>\n",
       "    </tr>\n",
       "    <tr>\n",
       "      <th>4</th>\n",
       "      <td>x</td>\n",
       "      <td>x</td>\n",
       "      <td>x</td>\n",
       "      <td>x</td>\n",
       "      <td>o</td>\n",
       "      <td>o</td>\n",
       "      <td>b</td>\n",
       "      <td>o</td>\n",
       "      <td>b</td>\n",
       "      <td>positive</td>\n",
       "    </tr>\n",
       "  </tbody>\n",
       "</table>\n",
       "</div>"
      ],
      "text/plain": [
       "  P1 P2 P3 P4 P5 P6 P7 P8 P9     class\n",
       "0  x  x  x  x  o  o  x  o  o  positive\n",
       "1  x  x  x  x  o  o  o  x  o  positive\n",
       "2  x  x  x  x  o  o  o  o  x  positive\n",
       "3  x  x  x  x  o  o  o  b  b  positive\n",
       "4  x  x  x  x  o  o  b  o  b  positive"
      ]
     },
     "execution_count": 8,
     "metadata": {},
     "output_type": "execute_result"
    }
   ],
   "source": [
    "names = ['P1', 'P2', 'P3', 'P4', 'P5', 'P6', 'P7', 'P8', 'P9', 'class']\n",
    "df = pd.read_csv('data/tic-tac-toe.data', header=None, sep=',', names=names)\n",
    "df.head()"
   ]
  },
  {
   "cell_type": "code",
   "execution_count": 9,
   "metadata": {},
   "outputs": [],
   "source": [
    "# Encode categorical label as numbers\n",
    "df['class'] = df['class'].replace({'negative': -1, 'positive': 1})\n",
    "y = df[['class']].to_numpy()\n",
    "y = y.flatten()\n",
    "# One-hot encode board space columns\n",
    "X = df.drop('class', axis=1)\n",
    "one_hot_encoder = OneHotEncoder()\n",
    "X = one_hot_encoder.fit_transform(X).toarray()"
   ]
  },
  {
   "cell_type": "markdown",
   "metadata": {},
   "source": [
    "## Implementação do Algoritmo de Boosting"
   ]
  },
  {
   "cell_type": "code",
   "execution_count": 18,
   "metadata": {},
   "outputs": [],
   "source": [
    "class AdaBoost:\n",
    "    \n",
    "    def __init__(self, n_estimators=100):\n",
    "        self.n_estimators = n_estimators # number of estimators\n",
    "        self.estimators = []            # list of estimators               \n",
    "        self.alpha = []                  # list of weights relation with each weak classifier\n",
    "    \n",
    "    \n",
    "    # Function to fit the model. Arguments:\n",
    "    # X: independent variables - numpy array (n_samples x n_features)\n",
    "    # y: target variable - numpy array (targets must be -1 or 1)\n",
    "    def fit(self, X, y):\n",
    "        # Step 1. Initialize all the observation weights (wi) with 1/(number_of_samples):\n",
    "        self.w = np.ones([len(y)])/ len(y) \n",
    "                \n",
    "        # Step 2: Iterate over the estimators:\n",
    "        for estimator in range(self.n_estimators):\n",
    "            # 2.a: Fit a estimator with the training data using the weights w:\n",
    "            estimator = DecisionTreeClassifier(max_depth=1)\n",
    "            estimator.fit(X, y, sample_weight=self.w)\n",
    "            self.estimators.append(estimator) # saving on the list of wek classifiers\n",
    "    \n",
    "            # 2.b: Compute the error:\n",
    "            y_hat = estimator.predict(X)\n",
    "            error = 0\n",
    "            for idx in range(len(y)):\n",
    "                error += self.w[idx] * abs(y_hat[idx] - y[idx])/2\n",
    "                        \n",
    "            # 2.c: Compute alpha_i:\n",
    "            self.alpha.append(0.5 * np.log((1 - error)/error))\n",
    "                        \n",
    "            # 2.d: Update weights w:\n",
    "            self.w =  self.w * np.exp(-self.alpha[-1] * y_hat * y)\n",
    "    \n",
    "    # Function to predict. Arguments:\n",
    "    # X: independent variables - numpy array (n_samples x n_features)\n",
    "    def predict(self, X): \n",
    "        predictions = np.zeros([X.shape[0], self.n_estimators])\n",
    "         # Predict class label for each weak classifier (weighted by alpha[i])\n",
    "        for idx, classifier in enumerate(self.estimators):\n",
    "            predictions[:, idx] = classifier.predict(X) * self.alpha[idx]\n",
    "        # Final predictions:\n",
    "        y_hat = np.zeros(X.shape[0])\n",
    "        for idx in range(X.shape[0]):\n",
    "            y_hat[idx] = (1 * np.sign(predictions[idx, :].sum())).astype(int)\n",
    "        y_hat[y_hat==0] = 1 \n",
    "        return y_hat"
   ]
  },
  {
   "cell_type": "markdown",
   "metadata": {},
   "source": [
    "## Validação do Modelo (5-fold cross-validation) "
   ]
  },
  {
   "cell_type": "code",
   "execution_count": 20,
   "metadata": {},
   "outputs": [
    {
     "data": {
      "text/plain": [
       "0.6458333333333334"
      ]
     },
     "execution_count": 20,
     "metadata": {},
     "output_type": "execute_result"
    }
   ],
   "source": [
    "from sklearn.model_selection import train_test_split\n",
    "#Applies one hot encoding to data and divides it into train and test\n",
    "X_train, X_test, y_train, y_test = train_test_split(X, y, train_size=0.95) \n",
    "ab = AdaBoost()\n",
    "ab.fit(X_train, y_train)\n",
    "\n",
    "# Predict on test set\n",
    "y_pred = ab.predict(X_test)\n",
    "\n",
    "from sklearn.metrics import accuracy_score\n",
    "accuracy_score(y_pred, y_test)\n"
   ]
  }
 ],
 "metadata": {
  "kernelspec": {
   "display_name": "Python 3",
   "language": "python",
   "name": "python3"
  },
  "language_info": {
   "codemirror_mode": {
    "name": "ipython",
    "version": 3
   },
   "file_extension": ".py",
   "mimetype": "text/x-python",
   "name": "python",
   "nbconvert_exporter": "python",
   "pygments_lexer": "ipython3",
   "version": "3.6.7"
  }
 },
 "nbformat": 4,
 "nbformat_minor": 2
}
