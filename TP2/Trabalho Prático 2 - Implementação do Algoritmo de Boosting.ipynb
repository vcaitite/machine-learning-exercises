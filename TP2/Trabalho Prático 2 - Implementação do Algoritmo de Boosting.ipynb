{
 "cells": [
  {
   "cell_type": "markdown",
   "metadata": {},
   "source": [
    "# Trabalho Prático 2 - Implementação do Algoritmo de Boosting\n",
    "\n",
    "- **Aluno:** Vítor Gabriel Reis Caitité\n",
    "- **Matrícula:** 2021712430"
   ]
  },
  {
   "cell_type": "code",
   "execution_count": 61,
   "metadata": {},
   "outputs": [],
   "source": [
    "# Imports\n",
    "import matplotlib.pyplot as plt\n",
    "import numpy as np\n",
    "from collections import Counter\n",
    "import pandas as pd\n",
    "from sklearn.metrics import roc_curve, precision_recall_curve\n",
    "from sklearn.model_selection import StratifiedKFold, cross_val_score, KFold\n",
    "from sklearn.metrics import confusion_matrix, accuracy_score, precision_score, recall_score\n",
    "from sklearn.naive_bayes import GaussianNB\n",
    "from sklearn.tree import DecisionTreeClassifier\n",
    "from sklearn.neighbors import KNeighborsClassifier\n",
    "from sklearn.ensemble import RandomForestClassifier\n",
    "from sklearn.ensemble import GradientBoostingClassifier\n",
    "from sklearn import tree\n",
    "from sklearn import svm\n",
    "from sklearn.preprocessing import MinMaxScaler\n",
    "from sklearn.preprocessing import OneHotEncoder\n",
    "from sklearn.model_selection import GridSearchCV \n",
    "from sklearn.pipeline import Pipeline\n",
    "import seaborn as sns\n",
    "import tabulate"
   ]
  },
  {
   "cell_type": "markdown",
   "metadata": {},
   "source": [
    "## Leitura e Pré-processamento dos Dados"
   ]
  },
  {
   "cell_type": "code",
   "execution_count": 62,
   "metadata": {},
   "outputs": [
    {
     "data": {
      "text/html": [
       "<div>\n",
       "<style scoped>\n",
       "    .dataframe tbody tr th:only-of-type {\n",
       "        vertical-align: middle;\n",
       "    }\n",
       "\n",
       "    .dataframe tbody tr th {\n",
       "        vertical-align: top;\n",
       "    }\n",
       "\n",
       "    .dataframe thead th {\n",
       "        text-align: right;\n",
       "    }\n",
       "</style>\n",
       "<table border=\"1\" class=\"dataframe\">\n",
       "  <thead>\n",
       "    <tr style=\"text-align: right;\">\n",
       "      <th></th>\n",
       "      <th>P1</th>\n",
       "      <th>P2</th>\n",
       "      <th>P3</th>\n",
       "      <th>P4</th>\n",
       "      <th>P5</th>\n",
       "      <th>P6</th>\n",
       "      <th>P7</th>\n",
       "      <th>P8</th>\n",
       "      <th>P9</th>\n",
       "      <th>class</th>\n",
       "    </tr>\n",
       "  </thead>\n",
       "  <tbody>\n",
       "    <tr>\n",
       "      <th>0</th>\n",
       "      <td>x</td>\n",
       "      <td>x</td>\n",
       "      <td>x</td>\n",
       "      <td>x</td>\n",
       "      <td>o</td>\n",
       "      <td>o</td>\n",
       "      <td>x</td>\n",
       "      <td>o</td>\n",
       "      <td>o</td>\n",
       "      <td>positive</td>\n",
       "    </tr>\n",
       "    <tr>\n",
       "      <th>1</th>\n",
       "      <td>x</td>\n",
       "      <td>x</td>\n",
       "      <td>x</td>\n",
       "      <td>x</td>\n",
       "      <td>o</td>\n",
       "      <td>o</td>\n",
       "      <td>o</td>\n",
       "      <td>x</td>\n",
       "      <td>o</td>\n",
       "      <td>positive</td>\n",
       "    </tr>\n",
       "    <tr>\n",
       "      <th>2</th>\n",
       "      <td>x</td>\n",
       "      <td>x</td>\n",
       "      <td>x</td>\n",
       "      <td>x</td>\n",
       "      <td>o</td>\n",
       "      <td>o</td>\n",
       "      <td>o</td>\n",
       "      <td>o</td>\n",
       "      <td>x</td>\n",
       "      <td>positive</td>\n",
       "    </tr>\n",
       "    <tr>\n",
       "      <th>3</th>\n",
       "      <td>x</td>\n",
       "      <td>x</td>\n",
       "      <td>x</td>\n",
       "      <td>x</td>\n",
       "      <td>o</td>\n",
       "      <td>o</td>\n",
       "      <td>o</td>\n",
       "      <td>b</td>\n",
       "      <td>b</td>\n",
       "      <td>positive</td>\n",
       "    </tr>\n",
       "    <tr>\n",
       "      <th>4</th>\n",
       "      <td>x</td>\n",
       "      <td>x</td>\n",
       "      <td>x</td>\n",
       "      <td>x</td>\n",
       "      <td>o</td>\n",
       "      <td>o</td>\n",
       "      <td>b</td>\n",
       "      <td>o</td>\n",
       "      <td>b</td>\n",
       "      <td>positive</td>\n",
       "    </tr>\n",
       "  </tbody>\n",
       "</table>\n",
       "</div>"
      ],
      "text/plain": [
       "  P1 P2 P3 P4 P5 P6 P7 P8 P9     class\n",
       "0  x  x  x  x  o  o  x  o  o  positive\n",
       "1  x  x  x  x  o  o  o  x  o  positive\n",
       "2  x  x  x  x  o  o  o  o  x  positive\n",
       "3  x  x  x  x  o  o  o  b  b  positive\n",
       "4  x  x  x  x  o  o  b  o  b  positive"
      ]
     },
     "execution_count": 62,
     "metadata": {},
     "output_type": "execute_result"
    }
   ],
   "source": [
    "names = ['P1', 'P2', 'P3', 'P4', 'P5', 'P6', 'P7', 'P8', 'P9', 'class']\n",
    "df = pd.read_csv('data/tic-tac-toe.data', header=None, sep=',', names=names)\n",
    "df.head()"
   ]
  },
  {
   "cell_type": "code",
   "execution_count": 63,
   "metadata": {},
   "outputs": [],
   "source": [
    "# Encode categorical label as numbers\n",
    "df['class'] = df['class'].replace({'negative': -1, 'positive': 1})\n",
    "y = df[['class']].to_numpy()\n",
    "y = y.flatten()\n",
    "# One-hot encode board space columns\n",
    "X = df.drop('class', axis=1)\n",
    "one_hot_encoder = OneHotEncoder()\n",
    "X = one_hot_encoder.fit_transform(X).toarray()"
   ]
  },
  {
   "cell_type": "markdown",
   "metadata": {},
   "source": [
    "## Implementação do Algoritmo de Boosting"
   ]
  },
  {
   "cell_type": "code",
   "execution_count": 76,
   "metadata": {},
   "outputs": [],
   "source": [
    "from sklearn.base import BaseEstimator, ClassifierMixin\n",
    "class AdaBoost(BaseEstimator, ClassifierMixin):\n",
    "    \n",
    "    def __init__(self, n_estimators=100):\n",
    "        self.n_estimators = n_estimators # number of estimators\n",
    "        self.estimators = []            # list of estimators               \n",
    "        self.alpha = []                  # list of weights relation with each weak classifier\n",
    "    \n",
    "    \n",
    "    # Function to fit the model. Arguments:\n",
    "    # X: independent variables - numpy array (n_samples x n_features)\n",
    "    # y: target variable - numpy array (targets must be -1 or 1)\n",
    "    def fit(self, X, y):\n",
    "        # Step 1. Initialize all the observation weights (wi) with 1/(number_of_samples):\n",
    "        self.w = np.ones([len(y)])/ len(y) \n",
    "                \n",
    "        # Step 2: Iterate over the estimators:\n",
    "        for estimator in range(self.n_estimators):\n",
    "            # 2.a: Fit a estimator with the training data using the weights w:\n",
    "            estimator = DecisionTreeClassifier(max_depth=1)\n",
    "            estimator.fit(X, y, sample_weight=self.w)\n",
    "            self.estimators.append(estimator) # saving on the list of wek classifiers\n",
    "    \n",
    "            # 2.b: Compute the error:\n",
    "            y_hat = estimator.predict(X)\n",
    "            error = 0\n",
    "            for idx in range(len(y)):\n",
    "                error += (self.w[idx] * abs(y_hat[idx] - y[idx])/2)\n",
    "                        \n",
    "            # 2.c: Compute alpha_i:\n",
    "            self.alpha.append(0.5 * np.log((1 - error)/error))\n",
    "                        \n",
    "            # 2.d: Update weights w:\n",
    "            self.w =  self.w * np.exp(-self.alpha[-1] * y_hat * y)/sum(self.w)\n",
    "    \n",
    "    # Function to predict. Arguments:\n",
    "    # X: independent variables - numpy array (n_samples x n_features)\n",
    "    def predict(self, X): \n",
    "        predictions = np.zeros([X.shape[0], self.n_estimators])\n",
    "         # Predict class label for each weak classifier (weighted by alpha[i])\n",
    "        for idx, classifier in enumerate(self.estimators):\n",
    "            predictions[:, idx] = classifier.predict(X) * self.alpha[idx]\n",
    "        # Final predictions:\n",
    "        y_hat = np.zeros(X.shape[0])\n",
    "        for idx in range(X.shape[0]):\n",
    "            y_hat[idx] = (1 * np.sign(predictions[idx, :].sum())).astype(int)\n",
    "        y_hat[y_hat==0] = 1 \n",
    "        return y_hat"
   ]
  },
  {
   "cell_type": "markdown",
   "metadata": {},
   "source": [
    "## Validação do Modelo (5-fold cross-validation) "
   ]
  },
  {
   "cell_type": "code",
   "execution_count": 77,
   "metadata": {},
   "outputs": [],
   "source": [
    "def plot_confusion_matrix(actual_classes : np.array, predicted_classes : np.array, sorted_labels : list):\n",
    "    matrix = confusion_matrix(actual_classes, predicted_classes, labels=sorted_labels)\n",
    "    plt.figure(figsize=(7,4))\n",
    "    sns.heatmap(matrix, annot=True, xticklabels=sorted_labels, yticklabels=sorted_labels, cmap=\"BuPu\", fmt=\"g\")\n",
    "    plt.xlabel('Predicted'); plt.ylabel('Actual'); plt.title('Confusion Matrix')\n",
    "    plt.show()"
   ]
  },
  {
   "cell_type": "code",
   "execution_count": 78,
   "metadata": {},
   "outputs": [],
   "source": [
    "def plot_grid_search(cv_results, grid_param_1, name_param_1):\n",
    "    # Get Test Scores Mean and std for each grid search\n",
    "    scores_mean = cv_results['mean_test_score']\n",
    "    scores_mean = np.array(scores_mean)\n",
    "    scores_sd = cv_results['std_test_score']\n",
    "    scores_sd = np.array(scores_sd)\n",
    "\n",
    "    # Plot Grid search scores\n",
    "    _, ax = plt.subplots(1,1)\n",
    "    ax.errorbar(grid_param_1, scores_mean, scores_sd, color = 'blue', marker='s', capsize=5)\n",
    "\n",
    "    ax.set_title(\"Grid Search Scores\", fontsize=20, fontweight='bold')\n",
    "    ax.set_xlabel(name_param_1, fontsize=16)\n",
    "    ax.set_ylabel('CV Average Score', fontsize=16)\n",
    "    ax.grid('on')\n",
    "    "
   ]
  },
  {
   "cell_type": "code",
   "execution_count": 93,
   "metadata": {},
   "outputs": [],
   "source": [
    "def apply_cross_validation(model, params={}, random_state=None):\n",
    "    k_fold = KFold(n_splits=5, shuffle=True, random_state=random_state)\n",
    "    predicted_classes = []\n",
    "    real_classes = []\n",
    "    accuracy = np.zeros(5)\n",
    "    precision = np.zeros(5)\n",
    "    recall = np.zeros(5)\n",
    "    idx = 0\n",
    "    for train_indices, test_indices in k_fold.split(X, y):\n",
    "        X_train = X[train_indices]\n",
    "        X_test = X[test_indices]\n",
    "        y_train = y[train_indices]\n",
    "        y_test = y[test_indices]\n",
    "        \n",
    "        # Fitting and Validating the model\n",
    "        clf = model(**params)\n",
    "        clf.fit(X_train, y_train)\n",
    "        y_pred = clf.predict(X_test)\n",
    "        predicted_classes = np.append(predicted_classes, y_pred)\n",
    "        real_classes = np.append(real_classes, y_test)\n",
    "        \n",
    "        # Calculating accuracy, precision and reall\n",
    "        precision[idx] = precision_score(y_test, y_pred)\n",
    "        recall[idx] = recall_score(y_test, y_pred)\n",
    "        accuracy[idx] = accuracy_score(y_test, y_pred)\n",
    "        idx +=1\n",
    "        print(f'Accuracy (fold {idx}): ' + '{:.4f}'.format(accuracy_score(y_test, y_pred)))  \n",
    "        \n",
    "    mean_accuracy = '{:.4f}'.format(accuracy.mean()) + \"+/-\" + '{:.4f}'.format(accuracy.std())\n",
    "    mean_precision ='{:.4f}'.format(precision.mean()) + \"+/-\" + '{:.4f}'.format(precision.std())\n",
    "    mean_recall = '{:.4f}'.format(recall.mean()) + \"+/-\" + '{:.4f}'.format(recall.std())\n",
    "    print(f\"\\nMean Accuracy: \" + mean_accuracy) \n",
    "    print(f\"Mean Precision: \" + mean_precision) \n",
    "    print(f\"Mean Recall: \" + mean_recall) \n",
    "    plot_confusion_matrix(real_classes, predicted_classes, [-1, 1])\n",
    "    return clf, mean_accuracy, mean_precision, mean_recall"
   ]
  },
  {
   "cell_type": "code",
   "execution_count": 98,
   "metadata": {},
   "outputs": [
    {
     "name": "stdout",
     "output_type": "stream",
     "text": [
      "Fitting 5 folds for each of 50 candidates, totalling 250 fits\n",
      "The best mean accuracy was 0.9707 and was achieved for n_estimators = 270\n"
     ]
    },
    {
     "data": {
      "image/png": "[encoded data removed]",
      "text/plain": [
       "<Figure size 432x288 with 1 Axes>"
      ]
     },
     "metadata": {
      "needs_background": "light"
     },
     "output_type": "display_data"
    }
   ],
   "source": [
    "lst =  list(np.linspace(10, 500, 50, dtype=int))\n",
    "# Grid Search application\n",
    "# The max depth will be the value encountered in Decision Tree test\n",
    "grid_params_gradient_boosting = [{'n_estimators': lst}]\n",
    "ab = AdaBoost()\n",
    "clf = GridSearchCV(ab, grid_params_gradient_boosting, scoring='accuracy', refit=True, cv=5, verbose=1)\n",
    "# Run fit with all sets of parameters.\n",
    "clf.fit(X, y)\n",
    "# Results of Grid Search\n",
    "n_estimators  = clf.best_params_['n_estimators']\n",
    "score = clf.best_score_\n",
    "print(\"The best mean accuracy was \" + '{:.4f}'.format(score) + \" and was achieved for n_estimators = \" + str(n_estimators) )\n",
    "plot_grid_search(clf.cv_results_, lst, 'n_estimators')"
   ]
  },
  {
   "cell_type": "code",
   "execution_count": 100,
   "metadata": {},
   "outputs": [
    {
     "name": "stdout",
     "output_type": "stream",
     "text": [
      "Accuracy (fold 1): 0.8958\n",
      "Accuracy (fold 2): 0.9062\n",
      "Accuracy (fold 3): 0.9219\n",
      "Accuracy (fold 4): 0.9215\n",
      "Accuracy (fold 5): 0.9215\n",
      "\n",
      "Mean Accuracy: 0.9134+/-0.0106\n",
      "Mean Precision: 0.8932+/-0.0214\n",
      "Mean Recall: 0.9858+/-0.0126\n"
     ]
    },
    {
     "data": {
      "image/png": "[encoded data removed]",
      "text/plain": [
       "<Figure size 504x288 with 2 Axes>"
      ]
     },
     "metadata": {
      "needs_background": "light"
     },
     "output_type": "display_data"
    }
   ],
   "source": [
    "# Calling Method \n",
    "model =  AdaBoost\n",
    "params = {'n_estimator': n_estimators}\n",
    "clf, mean_accuracy_nb, mean_precision_nb, mean_recall_nb = apply_cross_validation(model)"
   ]
  },
  {
   "cell_type": "code",
   "execution_count": 101,
   "metadata": {},
   "outputs": [
    {
     "name": "stdout",
     "output_type": "stream",
     "text": [
      "Accuracy (fold 1): 0.8490\n",
      "Accuracy (fold 2): 0.7760\n",
      "Accuracy (fold 3): 0.8750\n",
      "Accuracy (fold 4): 0.8220\n",
      "Accuracy (fold 5): 0.8272\n",
      "\n",
      "Mean Accuracy: 0.8298+/-0.0328\n",
      "Mean Precision: 0.8185+/-0.0318\n",
      "Mean Recall: 0.9499+/-0.0239\n"
     ]
    },
    {
     "data": {
      "image/png": "[encoded data removed]",
      "text/plain": [
       "<Figure size 504x288 with 2 Axes>"
      ]
     },
     "metadata": {
      "needs_background": "light"
     },
     "output_type": "display_data"
    }
   ],
   "source": [
    "from sklearn.ensemble import AdaBoostClassifier\n",
    "model = AdaBoostClassifier\n",
    "params = {'n_estimator': n_estimators}\n",
    "clf, mean_accuracy_nb, mean_precision_nb, mean_recall_nb = apply_cross_validation(model)"
   ]
  },
  {
   "cell_type": "markdown",
   "metadata": {},
   "source": [
    "## SVM"
   ]
  },
  {
   "cell_type": "code",
   "execution_count": 30,
   "metadata": {},
   "outputs": [
    {
     "name": "stdout",
     "output_type": "stream",
     "text": [
      "Accuracy (fold 1): 1.0000\n",
      "Accuracy (fold 2): 1.0000\n",
      "Accuracy (fold 3): 1.0000\n",
      "Accuracy (fold 4): 0.9634\n",
      "Accuracy (fold 5): 0.9948\n",
      "\n",
      "Mean Accuracy: 0.9916+/-0.0143\n",
      "Mean Precision: 0.9952+/-0.0065\n",
      "Mean Recall: 0.9921+/-0.0157\n"
     ]
    },
    {
     "data": {
      "image/png": "[encoded data removed]",
      "text/plain": [
       "<Figure size 504x288 with 2 Axes>"
      ]
     },
     "metadata": {
      "needs_background": "light"
     },
     "output_type": "display_data"
    }
   ],
   "source": [
    "model = svm.SVC\n",
    "params = {'kernel' : \"rbf\", 'gamma' : 'scale', 'C' : 10}\n",
    "clf, mean_accuracy_sigmoid_svm, mean_precision_sigmoid_svm, mean_recall_sigmoid_svm = apply_cross_validation(model, params)"
   ]
  },
  {
   "cell_type": "markdown",
   "metadata": {},
   "source": [
    "## Gradient Boosting"
   ]
  },
  {
   "cell_type": "code",
   "execution_count": 85,
   "metadata": {},
   "outputs": [
    {
     "name": "stdout",
     "output_type": "stream",
     "text": [
      "Fitting 5 folds for each of 16 candidates, totalling 80 fits\n",
      "The best mean accuracy was 0.8613 and was achieved for n_estimators = 130\n"
     ]
    }
   ],
   "source": [
    "lst =  [5, 10, 20, 30, 40, 50, 60, 70, 80, 90, 100, 110, 120, 130, 140, 150]\n",
    "# Grid Search application\n",
    "# The max depth will be the value encountered in Decision Tree test\n",
    "grid_params_gradient_boosting = [{'GradientBoosting__n_estimators': lst}]\n",
    "pipe_gradient_boosting = Pipeline([('scaler',  MinMaxScaler()),\n",
    "            ('GradientBoosting', GradientBoostingClassifier(max_depth = 6))])\n",
    "clf = GridSearchCV(pipe_gradient_boosting, grid_params_gradient_boosting, scoring='accuracy', refit=True, cv=5, verbose=1)\n",
    "# Run fit with all sets of parameters.\n",
    "clf.fit(X, y)\n",
    "# Results of Grid Search\n",
    "n_estimators  = clf.best_params_['GradientBoosting__n_estimators']\n",
    "score = clf.best_score_\n",
    "print(\"The best mean accuracy was \" + '{:.4f}'.format(score) + \" and was achieved for n_estimators = \" + str(n_estimators) )"
   ]
  },
  {
   "cell_type": "code",
   "execution_count": 86,
   "metadata": {},
   "outputs": [
    {
     "name": "stdout",
     "output_type": "stream",
     "text": [
      "Accuracy (fold 1): 0.9896\n",
      "Accuracy (fold 2): 0.9896\n",
      "Accuracy (fold 3): 1.0000\n",
      "Accuracy (fold 4): 0.9895\n",
      "Accuracy (fold 5): 0.9948\n",
      "\n",
      "Mean Accuracy: 0.9927+/-0.0042\n",
      "Mean Precision: 0.9904+/-0.0059\n",
      "Mean Recall: 0.9984+/-0.0032\n"
     ]
    },
    {
     "data": {
      "image/png": "[encoded data removed]",
      "text/plain": [
       "<Figure size 504x288 with 2 Axes>"
      ]
     },
     "metadata": {
      "needs_background": "light"
     },
     "output_type": "display_data"
    }
   ],
   "source": [
    "model = GradientBoostingClassifier\n",
    "params = {'n_estimators' : n_estimators, \"max_depth\" : 6}\n",
    "clf, mean_accuracy_gb, mean_precision_gb, mean_recall_gb = apply_cross_validation(model, params)"
   ]
  }
 ],
 "metadata": {
  "kernelspec": {
   "display_name": "Python 3",
   "language": "python",
   "name": "python3"
  },
  "language_info": {
   "codemirror_mode": {
    "name": "ipython",
    "version": 3
   },
   "file_extension": ".py",
   "mimetype": "text/x-python",
   "name": "python",
   "nbconvert_exporter": "python",
   "pygments_lexer": "ipython3",
   "version": "3.6.7"
  }
 },
 "nbformat": 4,
 "nbformat_minor": 2
}
